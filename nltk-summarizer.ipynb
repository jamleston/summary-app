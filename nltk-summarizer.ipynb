{
  "cells": [
    {
      "cell_type": "markdown",
      "metadata": {
        "colab_type": "text",
        "id": "view-in-github"
      },
      "source": [
        "<a href=\"https://colab.research.google.com/github/jamleston/summary-app/blob/main/Hw12.ipynb\" target=\"_parent\"><img src=\"https://colab.research.google.com/assets/colab-badge.svg\" alt=\"Open In Colab\"/></a>"
      ]
    },
    {
      "cell_type": "code",
      "execution_count": null,
      "metadata": {
        "id": "BUsIt0oVaQPN"
      },
      "outputs": [],
      "source": [
        "import spacy\n",
        "import nltk\n",
        "from nltk.corpus import stopwords\n",
        "from nltk.tokenize import sent_tokenize, word_tokenize\n",
        "from string import punctuation\n",
        "from heapq import nlargest"
      ]
    },
    {
      "cell_type": "code",
      "execution_count": null,
      "metadata": {
        "colab": {
          "base_uri": "https://localhost:8080/"
        },
        "id": "TtyCUMYQagkE",
        "outputId": "20d982e7-e113-4cee-a76d-0aa884154eef"
      },
      "outputs": [
        {
          "name": "stderr",
          "output_type": "stream",
          "text": [
            "[nltk_data] Downloading package punkt to /root/nltk_data...\n",
            "[nltk_data]   Package punkt is already up-to-date!\n",
            "[nltk_data] Downloading package stopwords to /root/nltk_data...\n",
            "[nltk_data]   Package stopwords is already up-to-date!\n",
            "[nltk_data] Downloading package punkt_tab to /root/nltk_data...\n",
            "[nltk_data]   Package punkt_tab is already up-to-date!\n"
          ]
        }
      ],
      "source": [
        "# Download necessary NLTK data files\n",
        "nltk.download('punkt')\n",
        "nltk.download('stopwords')\n",
        "nltk.download('punkt_tab')\n",
        "\n",
        "nlp = spacy.load('en_core_web_sm')"
      ]
    },
    {
      "cell_type": "code",
      "execution_count": null,
      "metadata": {
        "id": "WpGGESmeamN_"
      },
      "outputs": [],
      "source": [
        "# Input text to be summarized\n",
        "text = \"\"\"\n",
        "The Orbiter Discovery, OV-103, is considered eligible for listing in the National Register of Historic Places (NRHP)\n",
        "in the context of the U.S. Space Shuttle Program (1969-2011) under Criterion A in the areas of Space Exploration and\n",
        "Transportation and under Criterion C in the area of Engineering. Because it has achieved significance within the past\n",
        "fifty years, Criteria Consideration G applies. Under Criterion A, Discovery is significant as the oldest of the three\n",
        "extant orbiter vehicles constructed for the Space Shuttle Program (SSP), the longest running American space program to date;\n",
        "she was the third of five orbiters built by NASA. Unlike the Mercury, Gemini, and Apollo programs, the SSP’s emphasis was\n",
        "on cost effectiveness and reusability, and eventually the construction of a space station. Including her maiden voyage\n",
        "(launched August 30, 1984), Discovery flew to space thirty-nine times, more than any of the other four orbiters; she was\n",
        "also the first orbiter to fly twenty missions. She had the honor of being chosen as the Return to Flight vehicle after\n",
        "both the Challenger and Columbia accidents. Discovery was the first shuttle to fly with the redesigned SRBs, a result\n",
        "of the Challenger accident, and the first shuttle to fly with the Phase II and Block I SSME. Discovery also carried the\n",
        "Hubble Space Telescope to orbit and performed two of the five servicing missions to the observatory. She flew the first\n",
        "and last dedicated Department of Defense (DoD) missions, as well as the first unclassified defense-related mission.\n",
        "In addition, Discovery was vital to the construction of the International Space Station (ISS); she flew thirteen of\n",
        "the thirty-seven total missions flown to the station by a U.S. Space Shuttle. She was the first orbiter to dock to the ISS,\n",
        "and the first to perform an exchange of a resident crew. Under Criterion C, Discovery is significant as a feat of engineering.\n",
        "According to Wayne Hale, a flight director from Johnson Space Center, the Space Shuttle orbiter represents a “huge technological\n",
        "leap from expendable rockets and capsules to a reusable, winged, hypersonic, cargo-carrying spacecraft.” Although her base\n",
        "structure followed a conventional aircraft design, she used advanced materials that both minimized her weight for cargo-carrying\n",
        "purposes and featured low thermal expansion ratios, which provided a stable base for her Thermal Protection System (TPS) materials.\n",
        "The Space Shuttle orbiter also featured the first reusable TPS; all previous spaceflight vehicles had a single-use, ablative heat\n",
        "shield. Other notable engineering achievements of the orbiter included the first reusable orbital propulsion system, and the first\n",
        "two-fault-tolerant Integrated Avionics System. As Hale stated, the Space Shuttle remains “the largest, fastest, winged hypersonic\n",
        "aircraft in history,” having regularly flown at twenty-five times the speed of sound.\n",
        "\"\"\""
      ]
    },
    {
      "cell_type": "code",
      "execution_count": null,
      "metadata": {
        "id": "vK0ggdAYa05S"
      },
      "outputs": [],
      "source": [
        "# Tokenize the text into words and sentences\n",
        "tokens = word_tokenize(text)\n",
        "sentences = sent_tokenize(text)\n",
        "\n",
        "# Load stopwords for English and add punctuation\n",
        "stop_words = set(stopwords.words('english'))\n",
        "punctuation = punctuation + '\\n'\n",
        "\n",
        "# Load text into SpaCy\n",
        "doc = nlp(text)"
      ]
    },
    {
      "cell_type": "code",
      "execution_count": null,
      "metadata": {
        "colab": {
          "base_uri": "https://localhost:8080/"
        },
        "id": "QLkE2Om2bu-8",
        "outputId": "10d412f7-068e-443a-a091-7df79115c263"
      },
      "outputs": [
        {
          "data": {
            "text/plain": [
              "13"
            ]
          },
          "execution_count": 20,
          "metadata": {},
          "output_type": "execute_result"
        }
      ],
      "source": [
        "# Calculate word frequencies\n",
        "word_frequencies = {}\n",
        "words = word_tokenize(text.lower())\n",
        "for word in words:\n",
        "    if word.isalnum() and word not in stop_words and word not in punctuation:\n",
        "        word_frequencies[word] = word_frequencies.get(word, 0) + 1\n",
        "\n",
        "# Normalizing\n",
        "max_freq = max(word_frequencies.values(), default=1)\n",
        "word_frequencies = {word: freq / max_freq for word, freq in word_frequencies.items()}\n",
        "\n",
        "for word in word_frequencies:\n",
        "    word_frequencies[word] /= max_freq\n",
        "\n",
        "max_freq"
      ]
    },
    {
      "cell_type": "code",
      "execution_count": null,
      "metadata": {
        "id": "0bnSK25-b4Ja"
      },
      "outputs": [],
      "source": [
        "# Compute sentence scores based on word frequencies\n",
        "sentence_scores = {}\n",
        "for sentence in sentences:\n",
        "    for word in word_tokenize(sentence.lower()):\n",
        "        if word in word_frequencies:\n",
        "            sentence_scores[sentence] = sentence_scores.get(sentence, 0) + word_frequencies[word]\n",
        "\n",
        "# print(sentence_scores)"
      ]
    },
    {
      "cell_type": "code",
      "execution_count": null,
      "metadata": {
        "colab": {
          "base_uri": "https://localhost:8080/",
          "height": 123
        },
        "id": "kY3tYJAGcoj6",
        "outputId": "62273df1-3fad-4179-ffa0-aa503c1462ea"
      },
      "outputs": [
        {
          "data": {
            "application/vnd.google.colaboratory.intrinsic+json": {
              "type": "string"
            },
            "text/plain": [
              "'According to Wayne Hale, a flight director from Johnson Space Center, the Space Shuttle orbiter represents a “huge technological \\nleap from expendable rockets and capsules to a reusable, winged, hypersonic, cargo-carrying spacecraft.” Although her base \\nstructure followed a conventional aircraft design, she used advanced materials that both minimized her weight for cargo-carrying \\npurposes and featured low thermal expansion ratios, which provided a stable base for her Thermal Protection System (TPS) materials. Under Criterion A, Discovery is significant as the oldest of the three \\nextant orbiter vehicles constructed for the Space Shuttle Program (SSP), the longest running American space program to date; \\nshe was the third of five orbiters built by NASA. \\nThe Orbiter Discovery, OV-103, is considered eligible for listing in the National Register of Historic Places (NRHP) \\nin the context of the U.S. Space Shuttle Program (1969-2011) under Criterion A in the areas of Space Exploration and \\nTransportation and under Criterion C in the area of Engineering. In addition, Discovery was vital to the construction of the International Space Station (ISS); she flew thirteen of \\nthe thirty-seven total missions flown to the station by a U.S. Space Shuttle.'"
            ]
          },
          "execution_count": 23,
          "metadata": {},
          "output_type": "execute_result"
        }
      ],
      "source": [
        "# Summary\n",
        "summary_length = int(len(sentences) * 0.3)\n",
        "summary_sentences = nlargest(summary_length, sentence_scores, key=sentence_scores.get)\n",
        "summary = ' '.join(summary_sentences)\n",
        "\n",
        "summary"
      ]
    }
  ],
  "metadata": {
    "colab": {
      "authorship_tag": "ABX9TyMjyCA3rzuq63wbjflWGDqz",
      "include_colab_link": true,
      "provenance": []
    },
    "kernelspec": {
      "display_name": "Python 3",
      "name": "python3"
    },
    "language_info": {
      "name": "python"
    }
  },
  "nbformat": 4,
  "nbformat_minor": 0
}
